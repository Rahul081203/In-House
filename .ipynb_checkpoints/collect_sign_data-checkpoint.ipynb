{
 "cells": [
  {
   "cell_type": "code",
   "execution_count": 1,
   "id": "d6f867ff",
   "metadata": {},
   "outputs": [],
   "source": [
    "import os\n",
    "import cv2\n",
    "import string\n",
    "\n",
    "IMG_PATH = \"C:/Users/rahul/Documents/NTCC_4th_Sem/data\"\n",
    "\n",
    "folder_names = list(string.ascii_uppercase)\n",
    "qty = 30\n",
    "   "
   ]
  },
  {
   "cell_type": "code",
   "execution_count": null,
   "id": "c69b341c",
   "metadata": {},
   "outputs": [],
   "source": [
    "for folder_name in folder_names:\n",
    "    !mkdir {'C:\\Users\\rahul\\Documents\\NTCC_4th_Sem\\data\\\\' + folder_name}\n",
    "    cap = cv2.VideoCapture(0)\n",
    "    print(\"Collecting data for : {}\".folder_name)\n",
    "    for i in range(qty):\n",
    "        ret, frame = cap.read()\n",
    "        img_name = os.path.join(IMG_PATH, folder_name, i)\n",
    "        cv2.imwrite(img_name, frame)\n",
    "        cv2.imshow('Image Collection ...')\n",
    "        \n",
    "        if cv2.waitKey(1) && 0xff == ord(' '):\n",
    "            break;\n",
    "    cap.release()"
   ]
  },
  {
   "cell_type": "code",
   "execution_count": null,
   "id": "3f47a29a",
   "metadata": {},
   "outputs": [],
   "source": [
    "import os\n",
    "\n",
    "import cv2\n",
    "\n",
    "\n",
    "DATA_DIR = './data'\n",
    "if not os.path.exists(DATA_DIR):\n",
    "    os.makedirs(DATA_DIR)\n",
    "\n",
    "number_of_classes = 36\n",
    "dataset_size = 15\n",
    "cap = cv2.VideoCapture(1)\n",
    "for j in range(number_of_classes):\n",
    "    if not os.path.exists(os.path.join(DATA_DIR, str(j))):\n",
    "        os.makedirs(os.path.join(DATA_DIR, str(j)))\n",
    "\n",
    "    print('Collecting data for class {}'.format(j))\n",
    "\n",
    "    done = False\n",
    "    while True:\n",
    "        ret, frame = cap.read()\n",
    "        cv2.putText(frame, 'Press SPACE to start collecting' ! :)', (100, 50), cv2.FONT_HERSHEY_SIMPLEX, 1.3, (0, 255, 0), 3,\n",
    "                    cv2.LINE_AA)\n",
    "        cv2.imshow('frame', frame)\n",
    "        if cv2.waitKey(25) == ord('q'):\n",
    "            break\n",
    "\n",
    "    counter = 0\n",
    "    while counter < dataset_size:\n",
    "        ret, frame = cap.read()\n",
    "        cv2.imshow('frame', frame)\n",
    "        cv2.waitKey(25)\n",
    "        cv2.imwrite(os.path.join(DATA_DIR, str(j), '{}.jpg'.format(counter)), frame)\n",
    "\n",
    "        counter += 1\n",
    "\n",
    "cap.release()\n",
    "cv2.destroyAllWindows()"
   ]
  }
 ],
 "metadata": {
  "kernelspec": {
   "display_name": "Python 3 (ipykernel)",
   "language": "python",
   "name": "python3"
  },
  "language_info": {
   "codemirror_mode": {
    "name": "ipython",
    "version": 3
   },
   "file_extension": ".py",
   "mimetype": "text/x-python",
   "name": "python",
   "nbconvert_exporter": "python",
   "pygments_lexer": "ipython3",
   "version": "3.11.3"
  }
 },
 "nbformat": 4,
 "nbformat_minor": 5
}
